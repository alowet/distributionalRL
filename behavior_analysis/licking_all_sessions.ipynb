{
 "cells": [
  {
   "cell_type": "markdown",
   "metadata": {},
   "source": [
    "## For plotting licking data, e.g. Fig. 1c, ED Fig. 1f-g, 8b, 10c"
   ]
  },
  {
   "cell_type": "code",
   "execution_count": 1,
   "metadata": {},
   "outputs": [],
   "source": [
    "import matplotlib.pyplot as plt\n",
    "import matplotlib as mpl\n",
    "from matplotlib.ticker import MultipleLocator, FormatStrFormatter\n",
    "import seaborn as sns\n",
    "from cycler import cycler\n",
    "from traceUtils import *\n",
    "import numpy as np\n",
    "from scipy import stats\n",
    "from scipy.stats import sem, friedmanchisquare, wilcoxon\n",
    "from statsmodels.stats.multicomp import pairwise_tukeyhsd\n",
    "from statsmodels.formula.api import mixedlm\n",
    "import os\n",
    "import pickle\n",
    "import sys\n",
    "sys.path.append('../utils')\n",
    "from protocols import get_cs_info, load_params\n",
    "from db import get_db_info, select_db, execute_sql\n",
    "from plotting import plot_avgs, hide_spines, summarize_behavior, get_mouse_colors\n",
    "from matio import loadmat\n",
    "sys.path.append('../neural_analysis')\n",
    "from analysisUtils import construct_where_str"
   ]
  },
  {
   "cell_type": "code",
   "execution_count": 4,
   "metadata": {},
   "outputs": [],
   "source": [
    "plt.style.use('paper_export')"
   ]
  },
  {
   "cell_type": "code",
   "execution_count": 5,
   "metadata": {},
   "outputs": [],
   "source": [
    "# choose one block to uncomment to select protocol\n",
    "protocol = 'SameRewDist'\n",
    "xtickpos = [0.5, 2.5, 4.5]\n",
    "xticklabs = ['Nothing', 'Fixed', 'Variable']\n",
    "\n",
    "# protocol = 'Bernoulli'\n",
    "# xticklabs = ['0', '20', '50', '80', '  100%']\n",
    "# xtickpos = np.arange(len(xticklabs))\n",
    "\n",
    "# protocol = \"DiverseDists\" \n",
    "# xticklabs = ['CS1 ', '2', '3', '4', '5', '6']\n",
    "          \n",
    "# protocol = 'SameRewVar'\n",
    "# xtickpos = [0.5, 2.5, 4.5]\n",
    "# xticklabs = ['Nothing', 'Uniform', 'Bimodal']"
   ]
  },
  {
   "cell_type": "code",
   "execution_count": 7,
   "metadata": {},
   "outputs": [],
   "source": [
    "# chooose either has_ephys or has_imaging = 1\n",
    "colors, protocol_info, periods, kwargs = load_params(protocol)\n",
    "kwargs['has_ephys'] = 1  # only get ephys sessions that we're using. e.g. Fig. 1c, ED Fig. 8b\n",
    "# kwargs['has_imaging'] = 1  # only get imaging sessions that we're using. ED Fig. 10c"
   ]
  },
  {
   "cell_type": "code",
   "execution_count": 8,
   "metadata": {},
   "outputs": [],
   "source": [
    "### General Parameters ###\n",
    "if 'has_imaging' in kwargs:\n",
    "    class_name = 'genotype' \n",
    "    class_labels = ['D1-Cre', 'A2a-Cre'] \n",
    "else:\n",
    "    class_name = 'helper'\n",
    "    class_labels = ['all']\n",
    "    \n",
    "n_trace_types = protocol_info['n_trace_types']\n",
    "trace_type_names = protocol_info['trace_type_names']\n",
    "po = np.argsort(protocol_info['mean'][:n_trace_types])\n",
    "\n",
    "\n",
    "# colors, vline_color, trial_type_names, trace_type_names, n_trial_types, n_trace_types, variable_rew_css = get_cs_info(protocol)\n",
    "# dbinfo, plot_roots, data_roots, pool, ON_CLUSTER = get_db_info(make_pool=False)\n",
    "paths = get_db_info()\n",
    "alpha = 0.05  # for significance testing\n",
    "\n",
    "# create SQL query based on keyword arguments passed to function\n",
    "where_str = ['protocol=\"' + protocol.replace('DiverseDists', 'DistributionalRL_6Odours') + '\"']\n",
    "where_vals = []\n",
    "for key, val in zip(kwargs.keys(), kwargs.values()):\n",
    "    if val is not None:\n",
    "        if key == 'code':\n",
    "            where_str.append('name IN(SELECT name FROM mouse WHERE code IN ' + str(val) + ' OR code IS NULL)')\n",
    "#             where_vals.append(str(val))\n",
    "        elif key in ['n_trial', 'quality', 'phase', 'image']:\n",
    "            where_str.append(key + '>=?')\n",
    "            where_vals.append(val)\n",
    "        elif key in ['significance', 'has_imaging', 'has_ephys', 'rigname']:\n",
    "            where_str.append(key + '=?')\n",
    "            where_vals.append(val)\n",
    "        elif key in ['name']:\n",
    "            where_str.append(key + ' IN ' + str(val))\n",
    "        elif key in ['has_recording']:\n",
    "            where_str.append('(has_imaging=? OR has_ephys=?)')\n",
    "            where_vals.extend([val, val])\n",
    "        elif key == 'exclude_names':\n",
    "            where_str.append('name NOT IN ' + str(val))\n",
    "\n",
    "where_str = ' AND '.join(where_str)\n",
    "\n",
    "# get all sessions matching this query\n",
    "rets = select_db(paths['db'], 'session', '*', 'figure_path IS NOT NULL AND ' + where_str, where_vals, unique=False)\n",
    "\n",
    "# deal with stats kwarg case, which requires reading in the entire JSONified string of the table\n",
    "rets = check_stats(rets, kwargs['stats'], protocol_info['pairs_to_check'])"
   ]
  },
  {
   "cell_type": "code",
   "execution_count": 9,
   "metadata": {},
   "outputs": [],
   "source": [
    "ret_df = pd.DataFrame(rets, columns=rets[0].keys())\n",
    "n_sess = len(ret_df)"
   ]
  },
  {
   "cell_type": "code",
   "execution_count": 19,
   "metadata": {},
   "outputs": [],
   "source": [
    "table = 'ephys' if 'has_ephys' in kwargs and kwargs['has_ephys'] else 'imaging'\n",
    "data_path = os.path.join(paths['behavior_root'], f'licking_{protocol}_{table}.p')\n",
    "with open(data_path, 'rb') as f:\n",
    "    data = pickle.load(f)\n",
    "\n",
    "# bring loaded variables into namespace\n",
    "for var in data.keys():\n",
    "    exec(\"{} = data['{}']\".format(var, var))"
   ]
  },
  {
   "cell_type": "code",
   "execution_count": 31,
   "metadata": {},
   "outputs": [],
   "source": [
    "if 'Same' in protocol:\n",
    "    var_path = os.path.join(paths['behavior_root'], f'var_licking_{protocol}_{table}.p')\n",
    "    with open(var_path, 'rb') as f:\n",
    "        vdata = pickle.load(f)\n",
    "\n",
    "# bring loaded variables into namespace\n",
    "for var in vdata.keys():\n",
    "    exec(\"{} = vdata['{}']\".format(var, var))"
   ]
  },
  {
   "cell_type": "code",
   "execution_count": 33,
   "metadata": {},
   "outputs": [],
   "source": [
    "mouse_rets = select_db(paths['db'], 'mouse', 'name, genotype', 'TRUE', (), unique=False)\n",
    "mouse_df = pd.DataFrame(mouse_rets, columns=mouse_rets[0].keys())\n",
    "mouse_df['genotype'] = mouse_df['genotype'].str.split(\" \", n=1, expand=True)[0]\n",
    "if class_name == 'genotype':\n",
    "    ret_df = ret_df.merge(mouse_df, on='name', validate='many_to_one')\n",
    "else:\n",
    "    ret_df['helper'] = 'all'"
   ]
  },
  {
   "cell_type": "code",
   "execution_count": 34,
   "metadata": {},
   "outputs": [],
   "source": [
    "ddict = {'lick_diffs': (last_sec_means - baseline_lick_means).flatten(),\n",
    "         'licks': last_sec_means.flatten(),\n",
    "         'tt': np.repeat(protocol_info['trace_type_names'], n_sess),\n",
    "         'i_tt': np.repeat(np.arange(protocol_info['n_trace_types']), n_sess),\n",
    "         'name': np.tile(ret_df['name'], protocol_info['n_trace_types']),\n",
    "         'figure_path': np.tile(ret_df['figure_path'], protocol_info['n_trace_types']),\n",
    "         class_name: np.tile(ret_df[class_name], protocol_info['n_trace_types'])\n",
    "         }\n",
    "df = pd.DataFrame(ddict)"
   ]
  },
  {
   "cell_type": "code",
   "execution_count": 35,
   "metadata": {
    "scrolled": true
   },
   "outputs": [
    {
     "name": "stdout",
     "output_type": "stream",
     "text": [
      "                  Mixed Linear Model Regression Results\n",
      "=========================================================================\n",
      "Model:                   MixedLM      Dependent Variable:      licks     \n",
      "No. Observations:        624          Method:                  REML      \n",
      "No. Groups:              12           Scale:                   1.3982    \n",
      "Min. group size:         18           Log-Likelihood:          -1004.6197\n",
      "Max. group size:         126          Converged:               Yes       \n",
      "Mean group size:         52.0                                            \n",
      "-------------------------------------------------------------------------\n",
      "               Coef.    Std.Err.     z       P>|z|     [0.025     0.975] \n",
      "-------------------------------------------------------------------------\n",
      "Intercept    1.944e-01 1.663e-01 1.169e+00 2.423e-01 -1.315e-01 5.203e-01\n",
      "C(i_tt)[T.1] 1.616e-02 1.640e-01 9.855e-02 9.215e-01 -3.052e-01 3.376e-01\n",
      "C(i_tt)[T.2] 2.670e+00 1.640e-01 1.628e+01 1.266e-59  2.349e+00 2.992e+00\n",
      "C(i_tt)[T.3] 2.560e+00 1.640e-01 1.561e+01 5.937e-55  2.239e+00 2.882e+00\n",
      "C(i_tt)[T.4] 2.655e+00 1.640e-01 1.619e+01 5.915e-59  2.333e+00 2.976e+00\n",
      "C(i_tt)[T.5] 2.803e+00 1.640e-01 1.709e+01 1.662e-65  2.482e+00 3.124e+00\n",
      "name Var     1.630e-01 7.282e-02                                         \n",
      "=========================================================================\n",
      "\n",
      "                   Mixed Linear Model Regression Results\n",
      "===========================================================================\n",
      "Model:                   MixedLM       Dependent Variable:       licks     \n",
      "No. Observations:        624           Method:                   REML      \n",
      "No. Groups:              12            Scale:                    1.3982    \n",
      "Min. group size:         18            Log-Likelihood:           -1004.6197\n",
      "Max. group size:         126           Converged:                Yes       \n",
      "Mean group size:         52.0                                              \n",
      "---------------------------------------------------------------------------\n",
      "               Coef.     Std.Err.     z        P>|z|     [0.025     0.975] \n",
      "---------------------------------------------------------------------------\n",
      "Intercept     2.105e-01 1.663e-01  1.266e+00 2.054e-01 -1.153e-01 5.364e-01\n",
      "C(i_tt)[T.0] -1.616e-02 1.640e-01 -9.855e-02 9.215e-01 -3.376e-01 3.052e-01\n",
      "C(i_tt)[T.2]  2.654e+00 1.640e-01  1.619e+01 6.309e-59  2.333e+00 2.976e+00\n",
      "C(i_tt)[T.3]  2.544e+00 1.640e-01  1.551e+01 2.770e-54  2.223e+00 2.865e+00\n",
      "C(i_tt)[T.4]  2.639e+00 1.640e-01  1.609e+01 2.920e-58  2.317e+00 2.960e+00\n",
      "C(i_tt)[T.5]  2.787e+00 1.640e-01  1.699e+01 8.968e-65  2.465e+00 3.108e+00\n",
      "name Var      1.630e-01 7.282e-02                                          \n",
      "===========================================================================\n",
      "\n",
      "                   Mixed Linear Model Regression Results\n",
      "============================================================================\n",
      "Model:                    MixedLM       Dependent Variable:       licks     \n",
      "No. Observations:         624           Method:                   REML      \n",
      "No. Groups:               12            Scale:                    1.3982    \n",
      "Min. group size:          18            Log-Likelihood:           -1004.6197\n",
      "Max. group size:          126           Converged:                Yes       \n",
      "Mean group size:          52.0                                              \n",
      "----------------------------------------------------------------------------\n",
      "               Coef.     Std.Err.     z        P>|z|     [0.025     0.975]  \n",
      "----------------------------------------------------------------------------\n",
      "Intercept     2.865e+00 1.663e-01  1.723e+01 1.585e-66  2.539e+00  3.191e+00\n",
      "C(i_tt)[T.0] -2.670e+00 1.640e-01 -1.628e+01 1.266e-59 -2.992e+00 -2.349e+00\n",
      "C(i_tt)[T.1] -2.654e+00 1.640e-01 -1.619e+01 6.309e-59 -2.976e+00 -2.333e+00\n",
      "C(i_tt)[T.3] -1.102e-01 1.640e-01 -6.718e-01 5.017e-01 -4.315e-01  2.112e-01\n",
      "C(i_tt)[T.4] -1.551e-02 1.640e-01 -9.457e-02 9.247e-01 -3.369e-01  3.059e-01\n",
      "C(i_tt)[T.5]  1.326e-01 1.640e-01  8.086e-01 4.187e-01 -1.888e-01  4.540e-01\n",
      "name Var      1.630e-01 7.282e-02                                           \n",
      "============================================================================\n",
      "\n",
      "                   Mixed Linear Model Regression Results\n",
      "============================================================================\n",
      "Model:                    MixedLM       Dependent Variable:       licks     \n",
      "No. Observations:         624           Method:                   REML      \n",
      "No. Groups:               12            Scale:                    1.3982    \n",
      "Min. group size:          18            Log-Likelihood:           -1004.6197\n",
      "Max. group size:          126           Converged:                Yes       \n",
      "Mean group size:          52.0                                              \n",
      "----------------------------------------------------------------------------\n",
      "               Coef.     Std.Err.     z        P>|z|     [0.025     0.975]  \n",
      "----------------------------------------------------------------------------\n",
      "Intercept     2.755e+00 1.663e-01  1.657e+01 1.200e-61  2.429e+00  3.080e+00\n",
      "C(i_tt)[T.0] -2.560e+00 1.640e-01 -1.561e+01 5.937e-55 -2.882e+00 -2.239e+00\n",
      "C(i_tt)[T.1] -2.544e+00 1.640e-01 -1.551e+01 2.770e-54 -2.865e+00 -2.223e+00\n",
      "C(i_tt)[T.2]  1.102e-01 1.640e-01  6.718e-01 5.017e-01 -2.112e-01  4.315e-01\n",
      "C(i_tt)[T.4]  9.465e-02 1.640e-01  5.772e-01 5.638e-01 -2.267e-01  4.160e-01\n",
      "C(i_tt)[T.5]  2.428e-01 1.640e-01  1.480e+00 1.388e-01 -7.864e-02  5.641e-01\n",
      "name Var      1.630e-01 7.282e-02                                           \n",
      "============================================================================\n",
      "\n",
      "                   Mixed Linear Model Regression Results\n",
      "============================================================================\n",
      "Model:                    MixedLM       Dependent Variable:       licks     \n",
      "No. Observations:         624           Method:                   REML      \n",
      "No. Groups:               12            Scale:                    1.3982    \n",
      "Min. group size:          18            Log-Likelihood:           -1004.6197\n",
      "Max. group size:          126           Converged:                Yes       \n",
      "Mean group size:          52.0                                              \n",
      "----------------------------------------------------------------------------\n",
      "               Coef.     Std.Err.     z        P>|z|     [0.025     0.975]  \n",
      "----------------------------------------------------------------------------\n",
      "Intercept     2.849e+00 1.663e-01  1.714e+01 7.916e-66  2.523e+00  3.175e+00\n",
      "C(i_tt)[T.0] -2.655e+00 1.640e-01 -1.619e+01 5.915e-59 -2.976e+00 -2.333e+00\n",
      "C(i_tt)[T.1] -2.639e+00 1.640e-01 -1.609e+01 2.920e-58 -2.960e+00 -2.317e+00\n",
      "C(i_tt)[T.2]  1.551e-02 1.640e-01  9.457e-02 9.247e-01 -3.059e-01  3.369e-01\n",
      "C(i_tt)[T.3] -9.465e-02 1.640e-01 -5.772e-01 5.638e-01 -4.160e-01  2.267e-01\n",
      "C(i_tt)[T.5]  1.481e-01 1.640e-01  9.032e-01 3.664e-01 -1.733e-01  4.695e-01\n",
      "name Var      1.630e-01 7.282e-02                                           \n",
      "============================================================================\n",
      "\n",
      "                   Mixed Linear Model Regression Results\n",
      "============================================================================\n",
      "Model:                    MixedLM       Dependent Variable:       licks     \n",
      "No. Observations:         624           Method:                   REML      \n",
      "No. Groups:               12            Scale:                    1.3982    \n",
      "Min. group size:          18            Log-Likelihood:           -1004.6197\n",
      "Max. group size:          126           Converged:                Yes       \n",
      "Mean group size:          52.0                                              \n",
      "----------------------------------------------------------------------------\n",
      "               Coef.     Std.Err.     z        P>|z|     [0.025     0.975]  \n",
      "----------------------------------------------------------------------------\n",
      "Intercept     2.997e+00 1.663e-01  1.803e+01 1.188e-72  2.671e+00  3.323e+00\n",
      "C(i_tt)[T.0] -2.803e+00 1.640e-01 -1.709e+01 1.662e-65 -3.124e+00 -2.482e+00\n",
      "C(i_tt)[T.1] -2.787e+00 1.640e-01 -1.699e+01 8.968e-65 -3.108e+00 -2.465e+00\n",
      "C(i_tt)[T.2] -1.326e-01 1.640e-01 -8.086e-01 4.187e-01 -4.540e-01  1.888e-01\n",
      "C(i_tt)[T.3] -2.428e-01 1.640e-01 -1.480e+00 1.388e-01 -5.641e-01  7.864e-02\n",
      "C(i_tt)[T.4] -1.481e-01 1.640e-01 -9.032e-01 3.664e-01 -4.695e-01  1.733e-01\n",
      "name Var      1.630e-01 7.282e-02                                           \n",
      "============================================================================\n",
      "\n"
     ]
    }
   ],
   "source": [
    "# run a bunch of statistical tests on the data\n",
    "# relative to each possible odor\n",
    "for i_tt in range(n_trace_types):\n",
    "    dfmod = df.copy()\n",
    "    dfmod.loc[dfmod['i_tt'] == i_tt, 'i_tt'] = -1\n",
    "    formula = f'licks ~ C(i_tt) * {class_name}'\n",
    "    model = mixedlm(formula, dfmod, groups='name')\n",
    "    mfit = model.fit(method=['powell', 'lbfgs'], maxiter=2000)\n",
    "    print(mfit.summary())"
   ]
  },
  {
   "cell_type": "code",
   "execution_count": 36,
   "metadata": {},
   "outputs": [
    {
     "name": "stdout",
     "output_type": "stream",
     "text": [
      "all\n",
      "                  Mixed Linear Model Regression Results\n",
      "=========================================================================\n",
      "Model:                   MixedLM      Dependent Variable:      licks     \n",
      "No. Observations:        624          Method:                  REML      \n",
      "No. Groups:              12           Scale:                   1.3982    \n",
      "Min. group size:         18           Log-Likelihood:          -1004.6197\n",
      "Max. group size:         126          Converged:               Yes       \n",
      "Mean group size:         52.0                                            \n",
      "-------------------------------------------------------------------------\n",
      "               Coef.    Std.Err.     z       P>|z|     [0.025     0.975] \n",
      "-------------------------------------------------------------------------\n",
      "Intercept    1.944e-01 1.663e-01 1.169e+00 2.423e-01 -1.315e-01 5.203e-01\n",
      "C(i_tt)[T.1] 1.616e-02 1.640e-01 9.855e-02 9.215e-01 -3.052e-01 3.376e-01\n",
      "C(i_tt)[T.2] 2.670e+00 1.640e-01 1.628e+01 1.266e-59  2.349e+00 2.992e+00\n",
      "C(i_tt)[T.3] 2.560e+00 1.640e-01 1.561e+01 5.937e-55  2.239e+00 2.882e+00\n",
      "C(i_tt)[T.4] 2.655e+00 1.640e-01 1.619e+01 5.915e-59  2.333e+00 2.976e+00\n",
      "C(i_tt)[T.5] 2.803e+00 1.640e-01 1.709e+01 1.662e-65  2.482e+00 3.124e+00\n",
      "name Var     1.630e-01 7.282e-02                                         \n",
      "=========================================================================\n",
      "\n",
      "                   Mixed Linear Model Regression Results\n",
      "===========================================================================\n",
      "Model:                   MixedLM       Dependent Variable:       licks     \n",
      "No. Observations:        624           Method:                   REML      \n",
      "No. Groups:              12            Scale:                    1.3982    \n",
      "Min. group size:         18            Log-Likelihood:           -1004.6197\n",
      "Max. group size:         126           Converged:                Yes       \n",
      "Mean group size:         52.0                                              \n",
      "---------------------------------------------------------------------------\n",
      "               Coef.     Std.Err.     z        P>|z|     [0.025     0.975] \n",
      "---------------------------------------------------------------------------\n",
      "Intercept     2.105e-01 1.663e-01  1.266e+00 2.054e-01 -1.153e-01 5.364e-01\n",
      "C(i_tt)[T.0] -1.616e-02 1.640e-01 -9.855e-02 9.215e-01 -3.376e-01 3.052e-01\n",
      "C(i_tt)[T.2]  2.654e+00 1.640e-01  1.619e+01 6.309e-59  2.333e+00 2.976e+00\n",
      "C(i_tt)[T.3]  2.544e+00 1.640e-01  1.551e+01 2.770e-54  2.223e+00 2.865e+00\n",
      "C(i_tt)[T.4]  2.639e+00 1.640e-01  1.609e+01 2.920e-58  2.317e+00 2.960e+00\n",
      "C(i_tt)[T.5]  2.787e+00 1.640e-01  1.699e+01 8.968e-65  2.465e+00 3.108e+00\n",
      "name Var      1.630e-01 7.282e-02                                          \n",
      "===========================================================================\n",
      "\n",
      "                   Mixed Linear Model Regression Results\n",
      "============================================================================\n",
      "Model:                    MixedLM       Dependent Variable:       licks     \n",
      "No. Observations:         624           Method:                   REML      \n",
      "No. Groups:               12            Scale:                    1.3982    \n",
      "Min. group size:          18            Log-Likelihood:           -1004.6197\n",
      "Max. group size:          126           Converged:                Yes       \n",
      "Mean group size:          52.0                                              \n",
      "----------------------------------------------------------------------------\n",
      "               Coef.     Std.Err.     z        P>|z|     [0.025     0.975]  \n",
      "----------------------------------------------------------------------------\n",
      "Intercept     2.865e+00 1.663e-01  1.723e+01 1.585e-66  2.539e+00  3.191e+00\n",
      "C(i_tt)[T.0] -2.670e+00 1.640e-01 -1.628e+01 1.266e-59 -2.992e+00 -2.349e+00\n",
      "C(i_tt)[T.1] -2.654e+00 1.640e-01 -1.619e+01 6.309e-59 -2.976e+00 -2.333e+00\n",
      "C(i_tt)[T.3] -1.102e-01 1.640e-01 -6.718e-01 5.017e-01 -4.315e-01  2.112e-01\n",
      "C(i_tt)[T.4] -1.551e-02 1.640e-01 -9.457e-02 9.247e-01 -3.369e-01  3.059e-01\n",
      "C(i_tt)[T.5]  1.326e-01 1.640e-01  8.086e-01 4.187e-01 -1.888e-01  4.540e-01\n",
      "name Var      1.630e-01 7.282e-02                                           \n",
      "============================================================================\n",
      "\n",
      "                   Mixed Linear Model Regression Results\n",
      "============================================================================\n",
      "Model:                    MixedLM       Dependent Variable:       licks     \n",
      "No. Observations:         624           Method:                   REML      \n",
      "No. Groups:               12            Scale:                    1.3982    \n",
      "Min. group size:          18            Log-Likelihood:           -1004.6197\n",
      "Max. group size:          126           Converged:                Yes       \n",
      "Mean group size:          52.0                                              \n",
      "----------------------------------------------------------------------------\n",
      "               Coef.     Std.Err.     z        P>|z|     [0.025     0.975]  \n",
      "----------------------------------------------------------------------------\n",
      "Intercept     2.755e+00 1.663e-01  1.657e+01 1.200e-61  2.429e+00  3.080e+00\n",
      "C(i_tt)[T.0] -2.560e+00 1.640e-01 -1.561e+01 5.937e-55 -2.882e+00 -2.239e+00\n",
      "C(i_tt)[T.1] -2.544e+00 1.640e-01 -1.551e+01 2.770e-54 -2.865e+00 -2.223e+00\n",
      "C(i_tt)[T.2]  1.102e-01 1.640e-01  6.718e-01 5.017e-01 -2.112e-01  4.315e-01\n",
      "C(i_tt)[T.4]  9.465e-02 1.640e-01  5.772e-01 5.638e-01 -2.267e-01  4.160e-01\n",
      "C(i_tt)[T.5]  2.428e-01 1.640e-01  1.480e+00 1.388e-01 -7.864e-02  5.641e-01\n",
      "name Var      1.630e-01 7.282e-02                                           \n",
      "============================================================================\n",
      "\n",
      "                   Mixed Linear Model Regression Results\n",
      "============================================================================\n",
      "Model:                    MixedLM       Dependent Variable:       licks     \n",
      "No. Observations:         624           Method:                   REML      \n",
      "No. Groups:               12            Scale:                    1.3982    \n",
      "Min. group size:          18            Log-Likelihood:           -1004.6197\n",
      "Max. group size:          126           Converged:                Yes       \n",
      "Mean group size:          52.0                                              \n",
      "----------------------------------------------------------------------------\n",
      "               Coef.     Std.Err.     z        P>|z|     [0.025     0.975]  \n",
      "----------------------------------------------------------------------------\n",
      "Intercept     2.849e+00 1.663e-01  1.714e+01 7.916e-66  2.523e+00  3.175e+00\n",
      "C(i_tt)[T.0] -2.655e+00 1.640e-01 -1.619e+01 5.915e-59 -2.976e+00 -2.333e+00\n",
      "C(i_tt)[T.1] -2.639e+00 1.640e-01 -1.609e+01 2.920e-58 -2.960e+00 -2.317e+00\n",
      "C(i_tt)[T.2]  1.551e-02 1.640e-01  9.457e-02 9.247e-01 -3.059e-01  3.369e-01\n",
      "C(i_tt)[T.3] -9.465e-02 1.640e-01 -5.772e-01 5.638e-01 -4.160e-01  2.267e-01\n",
      "C(i_tt)[T.5]  1.481e-01 1.640e-01  9.032e-01 3.664e-01 -1.733e-01  4.695e-01\n",
      "name Var      1.630e-01 7.282e-02                                           \n",
      "============================================================================\n",
      "\n",
      "                   Mixed Linear Model Regression Results\n",
      "============================================================================\n",
      "Model:                    MixedLM       Dependent Variable:       licks     \n",
      "No. Observations:         624           Method:                   REML      \n",
      "No. Groups:               12            Scale:                    1.3982    \n",
      "Min. group size:          18            Log-Likelihood:           -1004.6197\n",
      "Max. group size:          126           Converged:                Yes       \n",
      "Mean group size:          52.0                                              \n",
      "----------------------------------------------------------------------------\n",
      "               Coef.     Std.Err.     z        P>|z|     [0.025     0.975]  \n",
      "----------------------------------------------------------------------------\n",
      "Intercept     2.997e+00 1.663e-01  1.803e+01 1.188e-72  2.671e+00  3.323e+00\n",
      "C(i_tt)[T.0] -2.803e+00 1.640e-01 -1.709e+01 1.662e-65 -3.124e+00 -2.482e+00\n",
      "C(i_tt)[T.1] -2.787e+00 1.640e-01 -1.699e+01 8.968e-65 -3.108e+00 -2.465e+00\n",
      "C(i_tt)[T.2] -1.326e-01 1.640e-01 -8.086e-01 4.187e-01 -4.540e-01  1.888e-01\n",
      "C(i_tt)[T.3] -2.428e-01 1.640e-01 -1.480e+00 1.388e-01 -5.641e-01  7.864e-02\n",
      "C(i_tt)[T.4] -1.481e-01 1.640e-01 -9.032e-01 3.664e-01 -4.695e-01  1.733e-01\n",
      "name Var      1.630e-01 7.282e-02                                           \n",
      "============================================================================\n",
      "\n"
     ]
    }
   ],
   "source": [
    "# relative to each possible odor, separately for each class\n",
    "for class_label in class_labels:\n",
    "    print(class_label)\n",
    "    for i_tt in range(n_trace_types):\n",
    "        dfmod = df[df[class_name] == class_label].copy()\n",
    "        dfmod.loc[dfmod['i_tt'] == i_tt, 'i_tt'] = -1\n",
    "        formula = f'licks ~ C(i_tt) * {class_name}'\n",
    "        model = mixedlm(formula, dfmod, groups='name')\n",
    "        mfit = model.fit(method=['powell', 'lbfgs'], maxiter=2000)\n",
    "        print(mfit.summary())"
   ]
  },
  {
   "cell_type": "code",
   "execution_count": 37,
   "metadata": {
    "scrolled": true
   },
   "outputs": [
    {
     "name": "stdout",
     "output_type": "stream",
     "text": [
      "[ 79  80  81  87  89  94  95 117 119 121 122 123]\n",
      "104\n",
      "figs/SameRewDist_helper_behavior_all\n"
     ]
    },
    {
     "name": "stderr",
     "output_type": "stream",
     "text": [
      "meta NOT subset; don't know how to subset; dropped\n"
     ]
    },
    {
     "data": {
      "image/png": "[encoded data removed]",
      "text/plain": [
       "<Figure size 165.6x122.4 with 2 Axes>"
      ]
     },
     "metadata": {
      "needs_background": "light"
     },
     "output_type": "display_data"
    }
   ],
   "source": [
    "# plot averages across mice, within class\n",
    "mouse_colors = get_mouse_colors(protocol) if 'has_ephys' in kwargs else get_mouse_colors(protocol, imaging=True)\n",
    "mids = ret_df['mid']\n",
    "\n",
    "for class_label in class_labels:\n",
    "\n",
    "    rows_use = ret_df.loc[ret_df[class_name] == class_label, ['mid', 'name']]\n",
    "    mid_arr = np.unique(rows_use['mid'])\n",
    "    print(mid_arr)\n",
    "    print(np.sum(np.isin(mids, mid_arr)))\n",
    "    class_colors = {k: v for k, v in mouse_colors.items() if k in rows_use['name'].values}\n",
    "    savename = os.path.join('figs', '_'.join([protocol, class_name, 'behavior', class_label]))\n",
    "    \n",
    "    # compute means within mice\n",
    "    licking_timecourse_mouse = np.swapaxes(np.array([np.mean(licking_timecourse[:, mids == i_mid, :], axis=1) \n",
    "                                                     for i_mid in mid_arr]), 0, 1)\n",
    "    last_sec_means_mouse = np.swapaxes(np.array([np.mean(last_sec_means[:, mids == i_mid], axis=1) \n",
    "                                                 for i_mid in mid_arr]), 0, 1)\n",
    "    trace_lick_means_mouse = np.swapaxes(np.array([np.mean(trace_lick_means[:, mids == i_mid], axis=1) \n",
    "                                                   for i_mid in mid_arr]), 0, 1)\n",
    "    \n",
    "    summarize_behavior(last_sec_means_mouse, n_trace_types, protocol_info, colors, po, savename, 'mice',\n",
    "                       xticklabs, xtickpos, mouse_colors=class_colors)\n",
    "    plt.show()"
   ]
  },
  {
   "cell_type": "code",
   "execution_count": 38,
   "metadata": {},
   "outputs": [
    {
     "name": "stdout",
     "output_type": "stream",
     "text": [
      "figs/SameRewDist_helper_behavior_diffs_all\n"
     ]
    },
    {
     "name": "stderr",
     "output_type": "stream",
     "text": [
      "meta NOT subset; don't know how to subset; dropped\n"
     ]
    },
    {
     "data": {
      "image/png": "[encoded data removed]",
      "text/plain": [
       "<Figure size 165.6x122.4 with 1 Axes>"
      ]
     },
     "metadata": {
      "needs_background": "light"
     },
     "output_type": "display_data"
    }
   ],
   "source": [
    "for class_label in class_labels:\n",
    "    \n",
    "    mids_use = ret_df.loc[ret_df[class_name] == class_label, 'mid']\n",
    "    mid_arr = np.unique(mids_use)\n",
    "    \n",
    "    # compare late trace licking to baseline\n",
    "    savename = os.path.join('figs', '_'.join([protocol, class_name, 'behavior_diffs', class_label]))\n",
    "    baseline_diffs_mouse = np.swapaxes(np.array([np.mean((last_sec_means - baseline_lick_means)[:, mids == i_mid], axis=1) \n",
    "                                                   for i_mid in mid_arr]), 0, 1)\n",
    "    summarize_behavior(baseline_diffs_mouse, n_trace_types, protocol_info, colors, po, savename, 'mice',\n",
    "                       xticklabs, xtickpos, mouse_colors=mouse_colors, hline=0)"
   ]
  },
  {
   "cell_type": "code",
   "execution_count": 39,
   "metadata": {
    "scrolled": true
   },
   "outputs": [
    {
     "name": "stdout",
     "output_type": "stream",
     "text": [
      "                  Mixed Linear Model Regression Results\n",
      "=========================================================================\n",
      "Model:                   MixedLM      Dependent Variable:      lick_diffs\n",
      "No. Observations:        104          Method:                  REML      \n",
      "No. Groups:              12           Scale:                   0.3709    \n",
      "Min. group size:         3            Log-Likelihood:          -103.5822 \n",
      "Max. group size:         21           Converged:               Yes       \n",
      "Mean group size:         8.7                                             \n",
      "-------------------------------------------------------------------------\n",
      "            Coef.     Std.Err.     z        P>|z|     [0.025     0.975]  \n",
      "-------------------------------------------------------------------------\n",
      "Intercept -3.962e-01 1.120e-01 -3.537e+00 4.054e-04 -6.158e-01 -1.766e-01\n",
      "name Var   9.841e-02 1.333e-01                                           \n",
      "=========================================================================\n",
      "\n",
      "                  Mixed Linear Model Regression Results\n",
      "=========================================================================\n",
      "Model:                   MixedLM      Dependent Variable:      lick_diffs\n",
      "No. Observations:        104          Method:                  REML      \n",
      "No. Groups:              12           Scale:                   0.1777    \n",
      "Min. group size:         3            Log-Likelihood:          -61.3534  \n",
      "Max. group size:         21           Converged:               Yes       \n",
      "Mean group size:         8.7                                             \n",
      "-------------------------------------------------------------------------\n",
      "            Coef.     Std.Err.     z        P>|z|     [0.025     0.975]  \n",
      "-------------------------------------------------------------------------\n",
      "Intercept -2.548e-01 5.387e-02 -4.731e+00 2.238e-06 -3.604e-01 -1.493e-01\n",
      "name Var   8.697e-03 2.912e-02                                           \n",
      "=========================================================================\n",
      "\n",
      "                Mixed Linear Model Regression Results\n",
      "=====================================================================\n",
      "Model:                 MixedLM     Dependent Variable:     lick_diffs\n",
      "No. Observations:      104         Method:                 REML      \n",
      "No. Groups:            12          Scale:                  1.9266    \n",
      "Min. group size:       3           Log-Likelihood:         -184.9142 \n",
      "Max. group size:       21          Converged:              Yes       \n",
      "Mean group size:       8.7                                           \n",
      "---------------------------------------------------------------------\n",
      "            Coef.    Std.Err.     z       P>|z|     [0.025    0.975] \n",
      "---------------------------------------------------------------------\n",
      "Intercept 2.380e+00 1.818e-01 1.309e+01 3.620e-39 2.024e+00 2.736e+00\n",
      "name Var  1.486e-01 1.594e-01                                        \n",
      "=====================================================================\n",
      "\n",
      "                Mixed Linear Model Regression Results\n",
      "=====================================================================\n",
      "Model:                 MixedLM     Dependent Variable:     lick_diffs\n",
      "No. Observations:      104         Method:                 REML      \n",
      "No. Groups:            12          Scale:                  1.8283    \n",
      "Min. group size:       3           Log-Likelihood:         -184.5933 \n",
      "Max. group size:       21          Converged:              Yes       \n",
      "Mean group size:       8.7                                           \n",
      "---------------------------------------------------------------------\n",
      "            Coef.    Std.Err.     z       P>|z|     [0.025    0.975] \n",
      "---------------------------------------------------------------------\n",
      "Intercept 2.185e+00 2.258e-01 9.680e+00 3.685e-22 1.743e+00 2.628e+00\n",
      "name Var  3.471e-01 2.325e-01                                        \n",
      "=====================================================================\n",
      "\n"
     ]
    },
    {
     "name": "stderr",
     "output_type": "stream",
     "text": [
      "/n/holystore01/LABS/uchida_users/Users/alowet/envs/neural/lib/python3.8/site-packages/statsmodels/regression/mixed_linear_model.py:2238: ConvergenceWarning: The MLE may be on the boundary of the parameter space.\n",
      "  warnings.warn(msg, ConvergenceWarning)\n"
     ]
    },
    {
     "name": "stdout",
     "output_type": "stream",
     "text": [
      "                Mixed Linear Model Regression Results\n",
      "=====================================================================\n",
      "Model:                 MixedLM     Dependent Variable:     lick_diffs\n",
      "No. Observations:      104         Method:                 REML      \n",
      "No. Groups:            12          Scale:                  1.7220    \n",
      "Min. group size:       3           Log-Likelihood:         -181.1959 \n",
      "Max. group size:       21          Converged:              Yes       \n",
      "Mean group size:       8.7                                           \n",
      "---------------------------------------------------------------------\n",
      "            Coef.    Std.Err.     z       P>|z|     [0.025    0.975] \n",
      "---------------------------------------------------------------------\n",
      "Intercept 2.322e+00 2.124e-01 1.093e+01 7.943e-28 1.906e+00 2.738e+00\n",
      "name Var  2.962e-01 2.123e-01                                        \n",
      "=====================================================================\n",
      "\n",
      "                Mixed Linear Model Regression Results\n",
      "=====================================================================\n",
      "Model:                 MixedLM     Dependent Variable:     lick_diffs\n",
      "No. Observations:      104         Method:                 REML      \n",
      "No. Groups:            12          Scale:                  1.9517    \n",
      "Min. group size:       3           Log-Likelihood:         -186.8592 \n",
      "Max. group size:       21          Converged:              Yes       \n",
      "Mean group size:       8.7                                           \n",
      "---------------------------------------------------------------------\n",
      "            Coef.    Std.Err.     z       P>|z|     [0.025    0.975] \n",
      "---------------------------------------------------------------------\n",
      "Intercept 2.464e+00 2.098e-01 1.175e+01 7.316e-32 2.053e+00 2.875e+00\n",
      "name Var  2.564e-01 1.953e-01                                        \n",
      "=====================================================================\n",
      "\n"
     ]
    }
   ],
   "source": [
    "# differences relative to baseline\n",
    "for i_tt in range(n_trace_types):\n",
    "    formula = f'lick_diffs ~ {class_name}'\n",
    "    model = mixedlm(formula, df[df['i_tt'] == i_tt], groups='name')\n",
    "    mfit = model.fit(method=['powell', 'lbfgs'], maxiter=2000)\n",
    "    print(mfit.summary())"
   ]
  },
  {
   "cell_type": "code",
   "execution_count": 40,
   "metadata": {},
   "outputs": [
    {
     "name": "stderr",
     "output_type": "stream",
     "text": [
      "<ipython-input-40-d6ed45925162>:13: FutureWarning: The default value of numeric_only in DataFrameGroupBy.mean is deprecated. In a future version, numeric_only will default to False. Either specify numeric_only or select only columns which should be valid for the function.\n",
      "  mousevar_df = vardf.groupby(['tt', 'prev_rew', 'name'], as_index=False).mean()\n",
      "meta NOT subset; don't know how to subset; dropped\n",
      "<ipython-input-40-d6ed45925162>:22: FutureWarning: The default value of numeric_only in DataFrameGroupBy.mean is deprecated. In a future version, numeric_only will default to False. Either specify numeric_only or select only columns which should be valid for the function.\n",
      "  data = mousevar_df.groupby(['prev_rew', 'name'], as_index=False).mean()\n",
      "meta NOT subset; don't know how to subset; dropped\n"
     ]
    },
    {
     "data": {
      "image/png": "[encoded data removed]",
      "text/plain": [
       "<Figure size 194.4x194.4 with 2 Axes>"
      ]
     },
     "metadata": {
      "needs_background": "light"
     },
     "output_type": "display_data"
    },
    {
     "data": {
      "image/png": "[encoded data removed]",
      "text/plain": [
       "<Figure size 72x144 with 1 Axes>"
      ]
     },
     "metadata": {
      "needs_background": "light"
     },
     "output_type": "display_data"
    }
   ],
   "source": [
    "# compare late trace licking on variable trials following 2 vs. 6 uL\n",
    "if 'Same' in protocol:\n",
    "    vardict = {'licks': var_means.flatten(),\n",
    "               'tt': np.repeat([f'{var_name} 1', f'{var_name} 2'], n_sess * n_var_rews),\n",
    "               'i_tt': np.repeat(var_inds, n_sess * n_var_rews),\n",
    "               'prev_rew': np.tile(np.repeat(['2', '6'], n_sess), n_var_tts),\n",
    "               'name': np.tile(ret_df['name'], n_var_tts * n_var_rews),\n",
    "               'figure_path': np.tile(ret_df['figure_path'], n_var_tts * n_var_rews)\n",
    "    }\n",
    "    vardf = pd.DataFrame(vardict)\n",
    "    \n",
    "    # for plotting\n",
    "    mousevar_df = vardf.groupby(['tt', 'prev_rew', 'name'], as_index=False).mean()\n",
    "    # mousevar_df\n",
    "\n",
    "    g = sns.FacetGrid(data=mousevar_df, col='tt', height=2.7, aspect=0.5)\n",
    "    g.map_dataframe(sns.lineplot, x='prev_rew', y='licks', hue='name', palette=mouse_colors, estimator=None, zorder=1)\n",
    "    g.map_dataframe(sns.pointplot, x='prev_rew', y='licks', hue='prev_rew', palette=['#475840', '#b3d5a4']).set_titles(\"\")\n",
    "    plt.savefig(os.path.join('figs', protocol + '_prev_rew_diffs_var_1_2.pdf'))\n",
    "    \n",
    "    plt.figure(figsize=(1, 2))\n",
    "    data = mousevar_df.groupby(['prev_rew', 'name'], as_index=False).mean()\n",
    "    ax = sns.lineplot(data=data, x='prev_rew', y='licks', hue='name', palette=mouse_colors, estimator=None, zorder=1, legend=False)\n",
    "    sns.pointplot(data=mousevar_df, x='prev_rew', y='licks', hue='prev_rew', ax=ax, palette=['#475840', '#b3d5a4'])\n",
    "    plt.legend().remove()\n",
    "    hide_spines()\n",
    "    plt.savefig(os.path.join('figs', protocol + '_prev_rew_diffs_var_pooled.pdf'))"
   ]
  },
  {
   "cell_type": "code",
   "execution_count": 41,
   "metadata": {},
   "outputs": [
    {
     "name": "stdout",
     "output_type": "stream",
     "text": [
      "                    Mixed Linear Model Regression Results\n",
      "=============================================================================\n",
      "Model:                    MixedLM        Dependent Variable:        licks    \n",
      "No. Observations:         416            Method:                    REML     \n",
      "No. Groups:               12             Scale:                     2.0098   \n",
      "Min. group size:          12             Log-Likelihood:            -748.3579\n",
      "Max. group size:          84             Converged:                 Yes      \n",
      "Mean group size:          34.7                                               \n",
      "-----------------------------------------------------------------------------\n",
      "                   Coef.    Std.Err.     z       P>|z|     [0.025     0.975] \n",
      "-----------------------------------------------------------------------------\n",
      "Intercept        2.697e+00 2.157e-01 1.250e+01 7.114e-36  2.274e+00 3.119e+00\n",
      "C(prev_rew)[T.6] 1.869e-01 1.390e-01 1.345e+00 1.787e-01 -8.552e-02 4.594e-01\n",
      "name Var         4.254e-01 1.579e-01                                         \n",
      "=============================================================================\n",
      "\n"
     ]
    }
   ],
   "source": [
    "if 'Same' in protocol:\n",
    "    formula = 'licks ~ C(prev_rew)'\n",
    "    model = mixedlm(formula, vardf, groups='name')\n",
    "    mfit = model.fit(method=['powell', 'lbfgs'], maxiter=2000)\n",
    "    print(mfit.summary())"
   ]
  },
  {
   "cell_type": "code",
   "execution_count": null,
   "metadata": {},
   "outputs": [],
   "source": []
  },
  {
   "cell_type": "code",
   "execution_count": null,
   "metadata": {},
   "outputs": [],
   "source": []
  }
 ],
 "metadata": {
  "kernelspec": {
   "display_name": "neural",
   "language": "python",
   "name": "neural"
  },
  "language_info": {
   "codemirror_mode": {
    "name": "ipython",
    "version": 3
   },
   "file_extension": ".py",
   "mimetype": "text/x-python",
   "name": "python",
   "nbconvert_exporter": "python",
   "pygments_lexer": "ipython3",
   "version": "3.8.5"
  }
 },
 "nbformat": 4,
 "nbformat_minor": 4
}
